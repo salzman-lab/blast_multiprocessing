{
 "cells": [
  {
   "cell_type": "code",
   "execution_count": null,
   "id": "1d29f070",
   "metadata": {},
   "outputs": [],
   "source": [
    "import numpy as np\n",
    "import pandas as pd\n",
    "import os\n",
    "import multiprocessing as mp\n",
    "import glob"
   ]
  },
  {
   "cell_type": "code",
   "execution_count": null,
   "id": "1298f3a8",
   "metadata": {},
   "outputs": [],
   "source": [
    "def blast(fasta, dummy):\n",
    "    \"\"\"\n",
    "    Simple helper to run BLAST. \n",
    "    \"\"\"\n",
    "    os.system('bash /oak/stanford/groups/horence/george/splash_utils/blast.sh ' + fasta)\n",
    "    return \n"
   ]
  },
  {
   "cell_type": "code",
   "execution_count": null,
   "id": "40428da0",
   "metadata": {},
   "outputs": [],
   "source": [
    "## The user sets a path to a SPLASH input and a working directory.\n",
    "splash_input = '/oak/stanford/groups/horence/george/blast_internal_parallelization/test/test_data.tsv'\n",
    "working_dir = '/oak/stanford/groups/horence/george/blast_internal_parallelization/test4'\n",
    "\n",
    "## Create and/or move to the working directory.  \n",
    "try:\n",
    "    os.mkdir(working_dir)\n",
    "    os.chdir(working_dir)\n",
    "except FileExistsError:\n",
    "    os.chdir(working_dir)\n"
   ]
  },
  {
   "cell_type": "code",
   "execution_count": null,
   "id": "c8bd2fd0",
   "metadata": {},
   "outputs": [],
   "source": [
    "## Load SPLASH output, available at the user-specified path. \n",
    "splash_input = pd.read_csv(splash_input,sep='\\t')\n",
    "\n",
    "## Determine how many target columns we have. \n",
    "most_freq_columns = [i for i in splash_input.columns if 'most_freq_target' in i and 'cnt' not in i]\n",
    "\n",
    "## Instantiate a table having columns for anchor, target 1, and target 1 count. \n",
    "## Rename columns to 'target' and 'count'.\n",
    "df = splash_input[['anchor','most_freq_target_1','cnt_most_freq_target_1']].rename(columns={'most_freq_target_1':'target','cnt_most_freq_target_1':'target_count'})\n",
    "df['target_rank'] = 1\n",
    "\n",
    "## Load and rename the remaining target and target count columns. \n",
    "## Append these columns to produce a long-form dataframe having rows for each anchor-target pair. \n",
    "for i in range(2, len(most_freq_columns) + 1): \n",
    "    fd = splash_input[['anchor','most_freq_target_'+str(i),'cnt_most_freq_target_'+str(i)]].rename(columns={'most_freq_target_'+str(i):'target','cnt_most_freq_target_'+str(i):'target_count'})\n",
    "    fd['target_rank'] = i\n",
    "    df = pd.concat([df,fd])\n",
    "df = df[df['target'] != '-'].reset_index(drop=True)\n",
    "\n",
    "## Introduce the SPLASH statistics back to the long-form dataframe. \n",
    "df = df.merge(splash_input[[i for i in splash_input.columns if 'most_freq_target' not in i]],how='left')"
   ]
  },
  {
   "cell_type": "code",
   "execution_count": null,
   "id": "939c96d9",
   "metadata": {},
   "outputs": [],
   "source": [
    "## Get a Pandas series representing extendors. \n",
    "cs = df['anchor'] + df['target']\n",
    "\n",
    "## Get the number of CPUs available on this Jupyter notebook. \n",
    "workers = int(os.environ['SLURM_JOB_CPUS_PER_NODE']) \n",
    "\n",
    "## Split the compactors into chunks of number == num CPUs. \n",
    "cs_inds = np.array_split(cs.index,workers)\n",
    "\n",
    "## Write FASTAs, one FASTA per available CPU.\n",
    "for i in range(len(cs_inds)):\n",
    "    fasta = open('11blast_'+str(i)+'.fasta','a')\n",
    "    sel = cs.iloc[cs_inds[i]]\n",
    "    for ind in sel.index:\n",
    "        fasta.write('>'+str(i)+'_'+str(ind)+'\\n')\n",
    "        fasta.write(cs[ind]+'\\n')\n",
    "    fasta.close()"
   ]
  },
  {
   "cell_type": "code",
   "execution_count": null,
   "id": "86a7a3fb",
   "metadata": {},
   "outputs": [],
   "source": [
    "## Use Python multiprocessing to submit a subprocess for each FASTA. \n",
    "if __name__ == \"__main__\":\n",
    "    with mp.Pool(workers) as p:\n",
    "        outs = p.starmap(blast, [(i,0) for i in glob.glob('11*fasta')])\n",
    "        "
   ]
  },
  {
   "cell_type": "code",
   "execution_count": null,
   "id": "d374379e",
   "metadata": {},
   "outputs": [],
   "source": [
    "## Load the FASTA input and BLAST output tables. \n",
    "## Except cases where the BLAST output is empty. \n",
    "outs = glob.glob('*BLAST_out.txt')\n",
    "ins = glob.glob('*.fasta') \n",
    "\n",
    "## Read the first FASTA. \n",
    "fasta = pd.read_csv(ins[0],header=None,sep='\\t',engine='python')\n",
    "\n",
    "## Read the remaining FASTAs, appending to the first. \n",
    "for i in range(1,len(ins)):\n",
    "    fasta1 = pd.read_csv(ins[i],header=None,sep='\\t',engine='python')\n",
    "    fasta = pd.concat([fasta,fasta1])\n",
    "    \n",
    "## Read the first BLAST output. \n",
    "blast = pd.read_csv(outs[0],header=None,sep='\\t',engine='python')\n",
    "\n",
    "## Read the remaining BLAST outputs, appending to the first. \n",
    "for i in range(1,len(outs)):\n",
    "    try:\n",
    "        blast1 = pd.read_csv(outs[i],header=None,sep='\\t',engine='python')\n",
    "        blast = pd.concat([blast,blast1])\n",
    "    except pd.errors.EmptyDataError:\n",
    "        pass\n",
    "    \n",
    "## Define the BLAST output columns concordantly with the specified 'fmt' in the BLAST command.  \n",
    "blast.columns = 'qseqid sseqid pident length mismatch gapopen qstart qend sstart send evalue bitscore sseqid sgi sacc slen staxids'.split(' ')\n",
    "headers = [i[1:] for i in fasta[0] if i[0] == '>']\n",
    "seqs = [i for i in fasta[0] if i[0] != '>']\n",
    "fast = pd.DataFrame({'qseqid':headers,'sequence':seqs})\n",
    "blast['qseqid'] = blast['qseqid'].astype(str)\n",
    "\n",
    "## Select BLAST hits having e-values < 0.05 and merge hits left onto a table generated from the input FASTA. \n",
    "blast = blast[blast['evalue']<0.05]\n",
    "\n",
    "## Merge the BLAST results onto the FASTA, thus joining BLAST information with query sequence information. \n",
    "blast = fast.merge(blast,how='left')\n",
    "\n",
    "## Extract the anchor and target; assume anchor is length 27.\n",
    "blast['anchor'] = blast['sequence'].str[:27]\n",
    "blast['target'] = blast['sequence'].str[27:]\n"
   ]
  },
  {
   "cell_type": "code",
   "execution_count": null,
   "id": "e4ba9717",
   "metadata": {},
   "outputs": [],
   "source": [
    "## Merge SPLASH output with all (e-value < 0.05) BLAST results and write the file. \n",
    "df = df.merge(blast,how='left')\n",
    "df.to_csv('SPLASH_output_BLAST_merged.tsv',sep='\\t')"
   ]
  }
 ],
 "metadata": {
  "kernelspec": {
   "display_name": "Python 3",
   "language": "python",
   "name": "python3"
  },
  "language_info": {
   "codemirror_mode": {
    "name": "ipython",
    "version": 3
   },
   "file_extension": ".py",
   "mimetype": "text/x-python",
   "name": "python",
   "nbconvert_exporter": "python",
   "pygments_lexer": "ipython3",
   "version": "3.9.12"
  }
 },
 "nbformat": 4,
 "nbformat_minor": 5
}
